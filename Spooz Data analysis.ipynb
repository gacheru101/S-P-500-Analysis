{
 "cells": [
  {
   "cell_type": "code",
   "execution_count": 3,
   "id": "0094e1df",
   "metadata": {},
   "outputs": [],
   "source": [
    "import pandas as pd\n",
    "import numpy as np\n",
    "import seaborn as sns\n",
    "from scipy import stats\n",
    "from matplotlib import pyplot as plt\n"
   ]
  },
  {
   "cell_type": "code",
   "execution_count": 4,
   "id": "0a47f0a3",
   "metadata": {},
   "outputs": [
    {
     "data": {
      "text/html": [
       "<div>\n",
       "<style scoped>\n",
       "    .dataframe tbody tr th:only-of-type {\n",
       "        vertical-align: middle;\n",
       "    }\n",
       "\n",
       "    .dataframe tbody tr th {\n",
       "        vertical-align: top;\n",
       "    }\n",
       "\n",
       "    .dataframe thead th {\n",
       "        text-align: right;\n",
       "    }\n",
       "</style>\n",
       "<table border=\"1\" class=\"dataframe\">\n",
       "  <thead>\n",
       "    <tr style=\"text-align: right;\">\n",
       "      <th></th>\n",
       "      <th>2021</th>\n",
       "      <th>28.71</th>\n",
       "    </tr>\n",
       "  </thead>\n",
       "  <tbody>\n",
       "    <tr>\n",
       "      <th>0</th>\n",
       "      <td>2020</td>\n",
       "      <td>18.40</td>\n",
       "    </tr>\n",
       "    <tr>\n",
       "      <th>1</th>\n",
       "      <td>2019</td>\n",
       "      <td>31.49</td>\n",
       "    </tr>\n",
       "    <tr>\n",
       "      <th>2</th>\n",
       "      <td>2018</td>\n",
       "      <td>-4.38</td>\n",
       "    </tr>\n",
       "    <tr>\n",
       "      <th>3</th>\n",
       "      <td>2017</td>\n",
       "      <td>21.83</td>\n",
       "    </tr>\n",
       "    <tr>\n",
       "      <th>4</th>\n",
       "      <td>2016</td>\n",
       "      <td>11.96</td>\n",
       "    </tr>\n",
       "  </tbody>\n",
       "</table>\n",
       "</div>"
      ],
      "text/plain": [
       "   2021  28.71\n",
       "0  2020  18.40\n",
       "1  2019  31.49\n",
       "2  2018  -4.38\n",
       "3  2017  21.83\n",
       "4  2016  11.96"
      ]
     },
     "execution_count": 4,
     "metadata": {},
     "output_type": "execute_result"
    }
   ],
   "source": [
    "#reading the CSV file\n",
    "df = pd.read_csv(\"C:\\\\Users\\\\Gacheru\\\\Downloads\\\\history.csv\")\n",
    "df.head()"
   ]
  },
  {
   "cell_type": "code",
   "execution_count": 5,
   "id": "32dafbf8",
   "metadata": {},
   "outputs": [],
   "source": [
    "#renaming the coloumns since they had years and return as they coloumn names\n",
    "\n",
    "df.rename(columns = {'2021':'Year', '28.71':'% Return'}, inplace = True)"
   ]
  },
  {
   "cell_type": "code",
   "execution_count": 6,
   "id": "99d5f981",
   "metadata": {},
   "outputs": [
    {
     "data": {
      "text/html": [
       "<div>\n",
       "<style scoped>\n",
       "    .dataframe tbody tr th:only-of-type {\n",
       "        vertical-align: middle;\n",
       "    }\n",
       "\n",
       "    .dataframe tbody tr th {\n",
       "        vertical-align: top;\n",
       "    }\n",
       "\n",
       "    .dataframe thead th {\n",
       "        text-align: right;\n",
       "    }\n",
       "</style>\n",
       "<table border=\"1\" class=\"dataframe\">\n",
       "  <thead>\n",
       "    <tr style=\"text-align: right;\">\n",
       "      <th></th>\n",
       "      <th>Year</th>\n",
       "      <th>% Return</th>\n",
       "    </tr>\n",
       "  </thead>\n",
       "  <tbody>\n",
       "    <tr>\n",
       "      <th>90</th>\n",
       "      <td>1930</td>\n",
       "      <td>-24.90</td>\n",
       "    </tr>\n",
       "    <tr>\n",
       "      <th>91</th>\n",
       "      <td>1929</td>\n",
       "      <td>-8.42</td>\n",
       "    </tr>\n",
       "    <tr>\n",
       "      <th>92</th>\n",
       "      <td>1928</td>\n",
       "      <td>43.61</td>\n",
       "    </tr>\n",
       "    <tr>\n",
       "      <th>93</th>\n",
       "      <td>1927</td>\n",
       "      <td>37.49</td>\n",
       "    </tr>\n",
       "    <tr>\n",
       "      <th>94</th>\n",
       "      <td>1926</td>\n",
       "      <td>11.62</td>\n",
       "    </tr>\n",
       "  </tbody>\n",
       "</table>\n",
       "</div>"
      ],
      "text/plain": [
       "    Year  % Return\n",
       "90  1930    -24.90\n",
       "91  1929     -8.42\n",
       "92  1928     43.61\n",
       "93  1927     37.49\n",
       "94  1926     11.62"
      ]
     },
     "execution_count": 6,
     "metadata": {},
     "output_type": "execute_result"
    }
   ],
   "source": [
    "df.tail()"
   ]
  },
  {
   "cell_type": "code",
   "execution_count": 7,
   "id": "f65d07fe",
   "metadata": {},
   "outputs": [],
   "source": [
    "#adding a new row with the missing data\n",
    "new_row = pd.DataFrame({\"Year\":2021,\"% Return\":28.71},index=[0])\n",
    "df = pd.concat([new_row, df]).reset_index(drop = True)"
   ]
  },
  {
   "cell_type": "code",
   "execution_count": 8,
   "id": "d1614ee0",
   "metadata": {},
   "outputs": [
    {
     "data": {
      "text/html": [
       "<div>\n",
       "<style scoped>\n",
       "    .dataframe tbody tr th:only-of-type {\n",
       "        vertical-align: middle;\n",
       "    }\n",
       "\n",
       "    .dataframe tbody tr th {\n",
       "        vertical-align: top;\n",
       "    }\n",
       "\n",
       "    .dataframe thead th {\n",
       "        text-align: right;\n",
       "    }\n",
       "</style>\n",
       "<table border=\"1\" class=\"dataframe\">\n",
       "  <thead>\n",
       "    <tr style=\"text-align: right;\">\n",
       "      <th></th>\n",
       "      <th>Year</th>\n",
       "      <th>% Return</th>\n",
       "    </tr>\n",
       "  </thead>\n",
       "  <tbody>\n",
       "    <tr>\n",
       "      <th>count</th>\n",
       "      <td>96.000000</td>\n",
       "      <td>96.000000</td>\n",
       "    </tr>\n",
       "    <tr>\n",
       "      <th>mean</th>\n",
       "      <td>1973.500000</td>\n",
       "      <td>12.327604</td>\n",
       "    </tr>\n",
       "    <tr>\n",
       "      <th>std</th>\n",
       "      <td>27.856777</td>\n",
       "      <td>19.632006</td>\n",
       "    </tr>\n",
       "    <tr>\n",
       "      <th>min</th>\n",
       "      <td>1926.000000</td>\n",
       "      <td>-43.340000</td>\n",
       "    </tr>\n",
       "    <tr>\n",
       "      <th>25%</th>\n",
       "      <td>1949.750000</td>\n",
       "      <td>-0.555000</td>\n",
       "    </tr>\n",
       "    <tr>\n",
       "      <th>50%</th>\n",
       "      <td>1973.500000</td>\n",
       "      <td>14.685000</td>\n",
       "    </tr>\n",
       "    <tr>\n",
       "      <th>75%</th>\n",
       "      <td>1997.250000</td>\n",
       "      <td>26.567500</td>\n",
       "    </tr>\n",
       "    <tr>\n",
       "      <th>max</th>\n",
       "      <td>2021.000000</td>\n",
       "      <td>53.990000</td>\n",
       "    </tr>\n",
       "  </tbody>\n",
       "</table>\n",
       "</div>"
      ],
      "text/plain": [
       "              Year   % Return\n",
       "count    96.000000  96.000000\n",
       "mean   1973.500000  12.327604\n",
       "std      27.856777  19.632006\n",
       "min    1926.000000 -43.340000\n",
       "25%    1949.750000  -0.555000\n",
       "50%    1973.500000  14.685000\n",
       "75%    1997.250000  26.567500\n",
       "max    2021.000000  53.990000"
      ]
     },
     "execution_count": 8,
     "metadata": {},
     "output_type": "execute_result"
    }
   ],
   "source": [
    "df.describe()"
   ]
  },
  {
   "cell_type": "code",
   "execution_count": 9,
   "id": "761ab533",
   "metadata": {},
   "outputs": [
    {
     "data": {
      "text/html": [
       "<div>\n",
       "<style scoped>\n",
       "    .dataframe tbody tr th:only-of-type {\n",
       "        vertical-align: middle;\n",
       "    }\n",
       "\n",
       "    .dataframe tbody tr th {\n",
       "        vertical-align: top;\n",
       "    }\n",
       "\n",
       "    .dataframe thead th {\n",
       "        text-align: right;\n",
       "    }\n",
       "</style>\n",
       "<table border=\"1\" class=\"dataframe\">\n",
       "  <thead>\n",
       "    <tr style=\"text-align: right;\">\n",
       "      <th></th>\n",
       "      <th>Year</th>\n",
       "      <th>% Return</th>\n",
       "    </tr>\n",
       "  </thead>\n",
       "  <tbody>\n",
       "    <tr>\n",
       "      <th>91</th>\n",
       "      <td>1930</td>\n",
       "      <td>-24.90</td>\n",
       "    </tr>\n",
       "    <tr>\n",
       "      <th>92</th>\n",
       "      <td>1929</td>\n",
       "      <td>-8.42</td>\n",
       "    </tr>\n",
       "    <tr>\n",
       "      <th>93</th>\n",
       "      <td>1928</td>\n",
       "      <td>43.61</td>\n",
       "    </tr>\n",
       "    <tr>\n",
       "      <th>94</th>\n",
       "      <td>1927</td>\n",
       "      <td>37.49</td>\n",
       "    </tr>\n",
       "    <tr>\n",
       "      <th>95</th>\n",
       "      <td>1926</td>\n",
       "      <td>11.62</td>\n",
       "    </tr>\n",
       "  </tbody>\n",
       "</table>\n",
       "</div>"
      ],
      "text/plain": [
       "    Year  % Return\n",
       "91  1930    -24.90\n",
       "92  1929     -8.42\n",
       "93  1928     43.61\n",
       "94  1927     37.49\n",
       "95  1926     11.62"
      ]
     },
     "execution_count": 9,
     "metadata": {},
     "output_type": "execute_result"
    }
   ],
   "source": [
    "#looking at the data tyes\n",
    "df.tail()\n"
   ]
  },
  {
   "cell_type": "code",
   "execution_count": 10,
   "id": "85ce6443",
   "metadata": {},
   "outputs": [
    {
     "data": {
      "text/html": [
       "<div>\n",
       "<style scoped>\n",
       "    .dataframe tbody tr th:only-of-type {\n",
       "        vertical-align: middle;\n",
       "    }\n",
       "\n",
       "    .dataframe tbody tr th {\n",
       "        vertical-align: top;\n",
       "    }\n",
       "\n",
       "    .dataframe thead th {\n",
       "        text-align: right;\n",
       "    }\n",
       "</style>\n",
       "<table border=\"1\" class=\"dataframe\">\n",
       "  <thead>\n",
       "    <tr style=\"text-align: right;\">\n",
       "      <th></th>\n",
       "      <th>Year</th>\n",
       "      <th>% Return</th>\n",
       "      <th>decade</th>\n",
       "    </tr>\n",
       "  </thead>\n",
       "  <tbody>\n",
       "    <tr>\n",
       "      <th>0</th>\n",
       "      <td>2021</td>\n",
       "      <td>28.71</td>\n",
       "      <td>Decade 10</td>\n",
       "    </tr>\n",
       "    <tr>\n",
       "      <th>1</th>\n",
       "      <td>2020</td>\n",
       "      <td>18.40</td>\n",
       "      <td>Decade 10</td>\n",
       "    </tr>\n",
       "    <tr>\n",
       "      <th>2</th>\n",
       "      <td>2019</td>\n",
       "      <td>31.49</td>\n",
       "      <td>Decade 9</td>\n",
       "    </tr>\n",
       "    <tr>\n",
       "      <th>3</th>\n",
       "      <td>2018</td>\n",
       "      <td>-4.38</td>\n",
       "      <td>Decade 9</td>\n",
       "    </tr>\n",
       "    <tr>\n",
       "      <th>4</th>\n",
       "      <td>2017</td>\n",
       "      <td>21.83</td>\n",
       "      <td>Decade 9</td>\n",
       "    </tr>\n",
       "    <tr>\n",
       "      <th>...</th>\n",
       "      <td>...</td>\n",
       "      <td>...</td>\n",
       "      <td>...</td>\n",
       "    </tr>\n",
       "    <tr>\n",
       "      <th>91</th>\n",
       "      <td>1930</td>\n",
       "      <td>-24.90</td>\n",
       "      <td>Decade 1</td>\n",
       "    </tr>\n",
       "    <tr>\n",
       "      <th>92</th>\n",
       "      <td>1929</td>\n",
       "      <td>-8.42</td>\n",
       "      <td>Decade 0.5</td>\n",
       "    </tr>\n",
       "    <tr>\n",
       "      <th>93</th>\n",
       "      <td>1928</td>\n",
       "      <td>43.61</td>\n",
       "      <td>Decade 0.5</td>\n",
       "    </tr>\n",
       "    <tr>\n",
       "      <th>94</th>\n",
       "      <td>1927</td>\n",
       "      <td>37.49</td>\n",
       "      <td>Decade 0.5</td>\n",
       "    </tr>\n",
       "    <tr>\n",
       "      <th>95</th>\n",
       "      <td>1926</td>\n",
       "      <td>11.62</td>\n",
       "      <td>Decade 0.5</td>\n",
       "    </tr>\n",
       "  </tbody>\n",
       "</table>\n",
       "<p>96 rows × 3 columns</p>\n",
       "</div>"
      ],
      "text/plain": [
       "    Year  % Return      decade\n",
       "0   2021     28.71   Decade 10\n",
       "1   2020     18.40   Decade 10\n",
       "2   2019     31.49    Decade 9\n",
       "3   2018     -4.38    Decade 9\n",
       "4   2017     21.83    Decade 9\n",
       "..   ...       ...         ...\n",
       "91  1930    -24.90    Decade 1\n",
       "92  1929     -8.42  Decade 0.5\n",
       "93  1928     43.61  Decade 0.5\n",
       "94  1927     37.49  Decade 0.5\n",
       "95  1926     11.62  Decade 0.5\n",
       "\n",
       "[96 rows x 3 columns]"
      ]
     },
     "execution_count": 10,
     "metadata": {},
     "output_type": "execute_result"
    }
   ],
   "source": [
    "#creating a funct to categorize the years based on decades\n",
    "def filter(x):\n",
    "    if x <= 1929:\n",
    "        return \"Decade 0.5\"\n",
    "    if (x >= 1930 and x <=1939 ):\n",
    "        return \"Decade 1\"\n",
    "    if (x >= 1940 and x <=1949 ):\n",
    "        return \"Decade 2\"\n",
    "    if (x >= 1950 and x <=1959 ):\n",
    "        return \"Decade 3\"\n",
    "    if (x >= 1960 and x <=1969 ):\n",
    "        return \"Decade 4\"\n",
    "    if (x >= 1970 and x <=1979 ):\n",
    "        return \"Decade 5\"\n",
    "    if (x >= 1980 and x <=1989 ):\n",
    "        return \"Decade 6\"\n",
    "    if (x >= 1990 and x <=1999 ):\n",
    "        return \"Decade 7\"\n",
    "    if (x >= 2000 and x <=2009 ):\n",
    "        return \"Decade 8\"\n",
    "    if (x >= 2010 and x <=2019 ):\n",
    "        return \"Decade 9\"\n",
    "    if (x >= 2020 and x <= 2023):\n",
    "        return \"Decade 10\"\n",
    "    \n",
    "#applying the function to the df\"Year\" column\n",
    "df[\"decade\"] = df[\"Year\"].apply(filter)\n",
    "df"
   ]
  },
  {
   "cell_type": "code",
   "execution_count": 11,
   "id": "6424c1d1",
   "metadata": {},
   "outputs": [
    {
     "data": {
      "text/plain": [
       "12.327604166666662"
      ]
     },
     "execution_count": 11,
     "metadata": {},
     "output_type": "execute_result"
    }
   ],
   "source": [
    "#lets take a look at the average mean of the data for the period\n",
    "df_mean = df[\"% Return\"].mean()\n",
    "df_mean\n"
   ]
  },
  {
   "cell_type": "code",
   "execution_count": 12,
   "id": "4d24bea9",
   "metadata": {
    "scrolled": true
   },
   "outputs": [
    {
     "data": {
      "text/plain": [
       "14.685"
      ]
     },
     "execution_count": 12,
     "metadata": {},
     "output_type": "execute_result"
    }
   ],
   "source": [
    "#median calculation of the data\n",
    "df_median = df[\"% Return\"].median()\n",
    "df_median"
   ]
  },
  {
   "cell_type": "code",
   "execution_count": 13,
   "id": "fd27f0aa",
   "metadata": {},
   "outputs": [
    {
     "data": {
      "text/plain": [
       "53.99"
      ]
     },
     "execution_count": 13,
     "metadata": {},
     "output_type": "execute_result"
    }
   ],
   "source": [
    "#min and max of the returns\n",
    "max_return = df['% Return'].max()\n",
    "max_return\n"
   ]
  },
  {
   "cell_type": "code",
   "execution_count": 14,
   "id": "e8cca014",
   "metadata": {},
   "outputs": [
    {
     "data": {
      "text/plain": [
       "-43.34"
      ]
     },
     "execution_count": 14,
     "metadata": {},
     "output_type": "execute_result"
    }
   ],
   "source": [
    "min_return = df[\"% Return\"].min()\n",
    "min_return"
   ]
  },
  {
   "cell_type": "code",
   "execution_count": 15,
   "id": "3daa61cd",
   "metadata": {},
   "outputs": [],
   "source": [
    "#standard deviation and the variance of the data set\n",
    "df_std_dev = df[\"% Return\"].std()\n",
    "\n",
    "\n",
    "#the data has a very high stand deviation from the mean"
   ]
  },
  {
   "cell_type": "code",
   "execution_count": 16,
   "id": "e393494f",
   "metadata": {},
   "outputs": [
    {
     "data": {
      "text/plain": [
       "385.4156689364035"
      ]
     },
     "execution_count": 16,
     "metadata": {},
     "output_type": "execute_result"
    }
   ],
   "source": [
    "#calculating the variance of the returns\n",
    "import statistics\n",
    "df_var = statistics.variance(df[\"% Return\"])\n",
    "df_var\n"
   ]
  },
  {
   "cell_type": "code",
   "execution_count": 17,
   "id": "b777359a",
   "metadata": {},
   "outputs": [
    {
     "data": {
      "text/plain": [
       "-0.4187607320811005"
      ]
     },
     "execution_count": 17,
     "metadata": {},
     "output_type": "execute_result"
    }
   ],
   "source": [
    "#skewness \n",
    "import scipy\n",
    "return_skewness = scipy.stats.skew(df[\"% Return\"],axis=0,bias=True)\n",
    "return_skewness\n",
    "#the skewness is negative, mean is on the left, mode highest pint on the right and median middle\n"
   ]
  },
  {
   "cell_type": "code",
   "execution_count": 18,
   "id": "3e68bd15",
   "metadata": {},
   "outputs": [
    {
     "data": {
      "text/plain": [
       "3.0465301755564416"
      ]
     },
     "execution_count": 18,
     "metadata": {},
     "output_type": "execute_result"
    }
   ],
   "source": [
    "#kurtosis measure of describing shape of a prob distr of its tailedness\n",
    "#it evaluates the thich or thin of the tails compared to normal distr\n",
    "#skweness is diff the tail of the distr ased on xtreme values\n",
    "#kurtosis measures wextreme values in either tails\n",
    "return_kurtosis = scipy.stats.kurtosis(df[\"% Return\"],fisher=False)\n",
    "return_kurtosis"
   ]
  },
  {
   "cell_type": "code",
   "execution_count": 40,
   "id": "7ad52e96",
   "metadata": {
    "scrolled": true
   },
   "outputs": [
    {
     "data": {
      "text/plain": [
       "<AxesSubplot:xlabel='decade', ylabel='% Return'>"
      ]
     },
     "execution_count": 40,
     "metadata": {},
     "output_type": "execute_result"
    },
    {
     "data": {
      "image/png": "[encoded data removed]",
      "text/plain": [
       "<Figure size 720x360 with 1 Axes>"
      ]
     },
     "metadata": {},
     "output_type": "display_data"
    }
   ],
   "source": [
    "#start visualization of the numerical data based on decade\n",
    "#boxplot - of the distr of returns per generation\n",
    "fig,ax = plt.subplots(figsize=(10\n",
    "                               ,5))\n",
    "sns.boxplot(data=df,y=\"% Return\",x=\"decade\",width= 0.5)\n"
   ]
  },
  {
   "cell_type": "code",
   "execution_count": 20,
   "id": "a8621f69",
   "metadata": {},
   "outputs": [
    {
     "data": {
      "text/html": [
       "<div>\n",
       "<style scoped>\n",
       "    .dataframe tbody tr th:only-of-type {\n",
       "        vertical-align: middle;\n",
       "    }\n",
       "\n",
       "    .dataframe tbody tr th {\n",
       "        vertical-align: top;\n",
       "    }\n",
       "\n",
       "    .dataframe thead th {\n",
       "        text-align: right;\n",
       "    }\n",
       "</style>\n",
       "<table border=\"1\" class=\"dataframe\">\n",
       "  <thead>\n",
       "    <tr style=\"text-align: right;\">\n",
       "      <th></th>\n",
       "      <th>Year</th>\n",
       "      <th>% Return</th>\n",
       "      <th>decade</th>\n",
       "      <th>Return_Classification</th>\n",
       "    </tr>\n",
       "  </thead>\n",
       "  <tbody>\n",
       "    <tr>\n",
       "      <th>0</th>\n",
       "      <td>2021</td>\n",
       "      <td>28.71</td>\n",
       "      <td>Decade 10</td>\n",
       "      <td>Extremely High</td>\n",
       "    </tr>\n",
       "    <tr>\n",
       "      <th>1</th>\n",
       "      <td>2020</td>\n",
       "      <td>18.40</td>\n",
       "      <td>Decade 10</td>\n",
       "      <td>High</td>\n",
       "    </tr>\n",
       "    <tr>\n",
       "      <th>2</th>\n",
       "      <td>2019</td>\n",
       "      <td>31.49</td>\n",
       "      <td>Decade 9</td>\n",
       "      <td>Extremely High</td>\n",
       "    </tr>\n",
       "    <tr>\n",
       "      <th>3</th>\n",
       "      <td>2018</td>\n",
       "      <td>-4.38</td>\n",
       "      <td>Decade 9</td>\n",
       "      <td>Extremely Low</td>\n",
       "    </tr>\n",
       "    <tr>\n",
       "      <th>4</th>\n",
       "      <td>2017</td>\n",
       "      <td>21.83</td>\n",
       "      <td>Decade 9</td>\n",
       "      <td>Extremely High</td>\n",
       "    </tr>\n",
       "    <tr>\n",
       "      <th>...</th>\n",
       "      <td>...</td>\n",
       "      <td>...</td>\n",
       "      <td>...</td>\n",
       "      <td>...</td>\n",
       "    </tr>\n",
       "    <tr>\n",
       "      <th>91</th>\n",
       "      <td>1930</td>\n",
       "      <td>-24.90</td>\n",
       "      <td>Decade 1</td>\n",
       "      <td>Extremely Low</td>\n",
       "    </tr>\n",
       "    <tr>\n",
       "      <th>92</th>\n",
       "      <td>1929</td>\n",
       "      <td>-8.42</td>\n",
       "      <td>Decade 0.5</td>\n",
       "      <td>Extremely Low</td>\n",
       "    </tr>\n",
       "    <tr>\n",
       "      <th>93</th>\n",
       "      <td>1928</td>\n",
       "      <td>43.61</td>\n",
       "      <td>Decade 0.5</td>\n",
       "      <td>Extremely High</td>\n",
       "    </tr>\n",
       "    <tr>\n",
       "      <th>94</th>\n",
       "      <td>1927</td>\n",
       "      <td>37.49</td>\n",
       "      <td>Decade 0.5</td>\n",
       "      <td>Extremely High</td>\n",
       "    </tr>\n",
       "    <tr>\n",
       "      <th>95</th>\n",
       "      <td>1926</td>\n",
       "      <td>11.62</td>\n",
       "      <td>Decade 0.5</td>\n",
       "      <td>High</td>\n",
       "    </tr>\n",
       "  </tbody>\n",
       "</table>\n",
       "<p>96 rows × 4 columns</p>\n",
       "</div>"
      ],
      "text/plain": [
       "    Year  % Return      decade Return_Classification\n",
       "0   2021     28.71   Decade 10        Extremely High\n",
       "1   2020     18.40   Decade 10                  High\n",
       "2   2019     31.49    Decade 9        Extremely High\n",
       "3   2018     -4.38    Decade 9         Extremely Low\n",
       "4   2017     21.83    Decade 9        Extremely High\n",
       "..   ...       ...         ...                   ...\n",
       "91  1930    -24.90    Decade 1         Extremely Low\n",
       "92  1929     -8.42  Decade 0.5         Extremely Low\n",
       "93  1928     43.61  Decade 0.5        Extremely High\n",
       "94  1927     37.49  Decade 0.5        Extremely High\n",
       "95  1926     11.62  Decade 0.5                  High\n",
       "\n",
       "[96 rows x 4 columns]"
      ]
     },
     "execution_count": 20,
     "metadata": {},
     "output_type": "execute_result"
    }
   ],
   "source": [
    "#categirize returns as High, Low and Medium\n",
    "def cat_return(x):\n",
    "    if x <= 0:\n",
    "        return \"Extremely Low\"\n",
    "    if (x > 1 and x <= 5):\n",
    "        return \"Low\"\n",
    "    if (x > 6 and x <= 10 ):\n",
    "        return \" Medium\"\n",
    "    if (x > 11 and x <= 20):\n",
    "        return \"High\"\n",
    "    if (x > 21 and x <= 100):\n",
    "        return \" Extremely High\"\n",
    "#applying the function to the df\"return\" column\n",
    "df[\"Return_Classification\"] = df[\"% Return\"].apply(cat_return)\n",
    "df"
   ]
  },
  {
   "cell_type": "code",
   "execution_count": 32,
   "id": "8551d9ad",
   "metadata": {},
   "outputs": [
    {
     "data": {
      "text/plain": [
       "<AxesSubplot:xlabel='Return_Classification', ylabel='count'>"
      ]
     },
     "execution_count": 32,
     "metadata": {},
     "output_type": "execute_result"
    },
    {
     "data": {
      "image/png": "[encoded data removed]",
      "text/plain": [
       "<Figure size 1080x720 with 1 Axes>"
      ]
     },
     "metadata": {},
     "output_type": "display_data"
    }
   ],
   "source": [
    "#creating a countplot to vizualize the Return classification data with the decade data\n",
    "sns.set(rc={\"figure.figsize\":(15,10)})\n",
    "sns.countplot(hue=\"decade\",x=\"Return_Classification\",data=df)"
   ]
  },
  {
   "cell_type": "code",
   "execution_count": 48,
   "id": "dadaa83f",
   "metadata": {},
   "outputs": [
    {
     "data": {
      "text/plain": [
       "<seaborn.axisgrid.FacetGrid at 0x242650dc100>"
      ]
     },
     "execution_count": 48,
     "metadata": {},
     "output_type": "execute_result"
    },
    {
     "data": {
      "image/png": "[encoded data removed]",
      "text/plain": [
       "<Figure size 482.05x360 with 1 Axes>"
      ]
     },
     "metadata": {},
     "output_type": "display_data"
    }
   ],
   "source": [
    "# Barplot \n",
    "sns.set(rc={\"figure.figsize\":(15,10)})\n",
    "sns.relplot(data=df, x=\"Year\", y=\"% Return\", hue=\"Return_Classification\")\n",
    "\n",
    "#there is no correlaion in this data"
   ]
  },
  {
   "cell_type": "code",
   "execution_count": 25,
   "id": "86b9c1c5",
   "metadata": {},
   "outputs": [
    {
     "data": {
      "text/html": [
       "<div>\n",
       "<style scoped>\n",
       "    .dataframe tbody tr th:only-of-type {\n",
       "        vertical-align: middle;\n",
       "    }\n",
       "\n",
       "    .dataframe tbody tr th {\n",
       "        vertical-align: top;\n",
       "    }\n",
       "\n",
       "    .dataframe thead th {\n",
       "        text-align: right;\n",
       "    }\n",
       "</style>\n",
       "<table border=\"1\" class=\"dataframe\">\n",
       "  <thead>\n",
       "    <tr style=\"text-align: right;\">\n",
       "      <th></th>\n",
       "      <th>Year</th>\n",
       "      <th>% Return</th>\n",
       "      <th>decade</th>\n",
       "      <th>Return_Classification</th>\n",
       "    </tr>\n",
       "  </thead>\n",
       "  <tbody>\n",
       "    <tr>\n",
       "      <th>92</th>\n",
       "      <td>1929</td>\n",
       "      <td>-8.42</td>\n",
       "      <td>Decade 0.5</td>\n",
       "      <td>Extremely Low</td>\n",
       "    </tr>\n",
       "    <tr>\n",
       "      <th>93</th>\n",
       "      <td>1928</td>\n",
       "      <td>43.61</td>\n",
       "      <td>Decade 0.5</td>\n",
       "      <td>Extremely High</td>\n",
       "    </tr>\n",
       "    <tr>\n",
       "      <th>94</th>\n",
       "      <td>1927</td>\n",
       "      <td>37.49</td>\n",
       "      <td>Decade 0.5</td>\n",
       "      <td>Extremely High</td>\n",
       "    </tr>\n",
       "    <tr>\n",
       "      <th>95</th>\n",
       "      <td>1926</td>\n",
       "      <td>11.62</td>\n",
       "      <td>Decade 0.5</td>\n",
       "      <td>High</td>\n",
       "    </tr>\n",
       "  </tbody>\n",
       "</table>\n",
       "</div>"
      ],
      "text/plain": [
       "    Year  % Return      decade Return_Classification\n",
       "92  1929     -8.42  Decade 0.5         Extremely Low\n",
       "93  1928     43.61  Decade 0.5        Extremely High\n",
       "94  1927     37.49  Decade 0.5        Extremely High\n",
       "95  1926     11.62  Decade 0.5                  High"
      ]
     },
     "execution_count": 25,
     "metadata": {},
     "output_type": "execute_result"
    }
   ],
   "source": [
    "#analysis of decade 1\n",
    "decade_six = df.loc[df['decade'] == \"Decade 0.5\"]\n",
    "decade_six"
   ]
  },
  {
   "cell_type": "code",
   "execution_count": 31,
   "id": "0ce7dc5e",
   "metadata": {},
   "outputs": [
    {
     "data": {
      "text/plain": [
       "<AxesSubplot:xlabel='% Return', ylabel='Density'>"
      ]
     },
     "execution_count": 31,
     "metadata": {},
     "output_type": "execute_result"
    },
    {
     "data": {
      "image/png": "[encoded data removed]",
      "text/plain": [
       "<Figure size 720x504 with 1 Axes>"
      ]
     },
     "metadata": {},
     "output_type": "display_data"
    }
   ],
   "source": [
    "#kde \n",
    "sns.set(rc={\"figure.figsize\":(10,7)})\n",
    "sns.kdeplot(data=df, x=\"% Return\")"
   ]
  },
  {
   "cell_type": "code",
   "execution_count": 58,
   "id": "499a3bbb",
   "metadata": {},
   "outputs": [
    {
     "data": {
      "text/plain": [
       "<bound method Series.corr of 0     28.71\n",
       "1     18.40\n",
       "2     31.49\n",
       "3     -4.38\n",
       "4     21.83\n",
       "      ...  \n",
       "91   -24.90\n",
       "92    -8.42\n",
       "93    43.61\n",
       "94    37.49\n",
       "95    11.62\n",
       "Name: % Return, Length: 96, dtype: float64>"
      ]
     },
     "execution_count": 58,
     "metadata": {},
     "output_type": "execute_result"
    }
   ],
   "source": [
    "#Corelation for the data set, no correlation observed in the data\n",
    "df_corr = df['% Return'].corr\n",
    "df_corr"
   ]
  },
  {
   "cell_type": "code",
   "execution_count": 52,
   "id": "1a6a2507",
   "metadata": {},
   "outputs": [
    {
     "data": {
      "text/html": [
       "<div>\n",
       "<style scoped>\n",
       "    .dataframe tbody tr th:only-of-type {\n",
       "        vertical-align: middle;\n",
       "    }\n",
       "\n",
       "    .dataframe tbody tr th {\n",
       "        vertical-align: top;\n",
       "    }\n",
       "\n",
       "    .dataframe thead th {\n",
       "        text-align: right;\n",
       "    }\n",
       "</style>\n",
       "<table border=\"1\" class=\"dataframe\">\n",
       "  <thead>\n",
       "    <tr style=\"text-align: right;\">\n",
       "      <th></th>\n",
       "      <th>Year</th>\n",
       "      <th>% Return</th>\n",
       "      <th>decade</th>\n",
       "      <th>Return_Classification</th>\n",
       "    </tr>\n",
       "  </thead>\n",
       "  <tbody>\n",
       "    <tr>\n",
       "      <th>0</th>\n",
       "      <td>2021</td>\n",
       "      <td>28.71</td>\n",
       "      <td>Decade 10</td>\n",
       "      <td>Extremely High</td>\n",
       "    </tr>\n",
       "    <tr>\n",
       "      <th>1</th>\n",
       "      <td>2020</td>\n",
       "      <td>18.40</td>\n",
       "      <td>Decade 10</td>\n",
       "      <td>High</td>\n",
       "    </tr>\n",
       "    <tr>\n",
       "      <th>2</th>\n",
       "      <td>2019</td>\n",
       "      <td>31.49</td>\n",
       "      <td>Decade 9</td>\n",
       "      <td>Extremely High</td>\n",
       "    </tr>\n",
       "    <tr>\n",
       "      <th>3</th>\n",
       "      <td>2018</td>\n",
       "      <td>-4.38</td>\n",
       "      <td>Decade 9</td>\n",
       "      <td>Extremely Low</td>\n",
       "    </tr>\n",
       "    <tr>\n",
       "      <th>4</th>\n",
       "      <td>2017</td>\n",
       "      <td>21.83</td>\n",
       "      <td>Decade 9</td>\n",
       "      <td>Extremely High</td>\n",
       "    </tr>\n",
       "  </tbody>\n",
       "</table>\n",
       "</div>"
      ],
      "text/plain": [
       "   Year  % Return     decade Return_Classification\n",
       "0  2021     28.71  Decade 10        Extremely High\n",
       "1  2020     18.40  Decade 10                  High\n",
       "2  2019     31.49   Decade 9        Extremely High\n",
       "3  2018     -4.38   Decade 9         Extremely Low\n",
       "4  2017     21.83   Decade 9        Extremely High"
      ]
     },
     "execution_count": 52,
     "metadata": {},
     "output_type": "execute_result"
    }
   ],
   "source": [
    "df.head()"
   ]
  },
  {
   "cell_type": "code",
   "execution_count": null,
   "id": "2d67806a",
   "metadata": {},
   "outputs": [],
   "source": []
  }
 ],
 "metadata": {
  "kernelspec": {
   "display_name": "Python 3 (ipykernel)",
   "language": "python",
   "name": "python3"
  },
  "language_info": {
   "codemirror_mode": {
    "name": "ipython",
    "version": 3
   },
   "file_extension": ".py",
   "mimetype": "text/x-python",
   "name": "python",
   "nbconvert_exporter": "python",
   "pygments_lexer": "ipython3",
   "version": "3.9.12"
  }
 },
 "nbformat": 4,
 "nbformat_minor": 5
}
