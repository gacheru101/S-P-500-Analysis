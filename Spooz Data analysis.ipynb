{
 "cells": [
  {
   "cell_type": "code",
   "execution_count": 149,
   "id": "0094e1df",
   "metadata": {},
   "outputs": [],
   "source": [
    "import pandas as pd\n",
    "import numpy as np\n",
    "import seaborn as sns\n",
    "from scipy import stats\n",
    "from matplotlib import pyplot as plt\n"
   ]
  },
  {
   "cell_type": "code",
   "execution_count": 150,
   "id": "0a47f0a3",
   "metadata": {},
   "outputs": [
    {
     "data": {
      "text/html": [
       "<div>\n",
       "<style scoped>\n",
       "    .dataframe tbody tr th:only-of-type {\n",
       "        vertical-align: middle;\n",
       "    }\n",
       "\n",
       "    .dataframe tbody tr th {\n",
       "        vertical-align: top;\n",
       "    }\n",
       "\n",
       "    .dataframe thead th {\n",
       "        text-align: right;\n",
       "    }\n",
       "</style>\n",
       "<table border=\"1\" class=\"dataframe\">\n",
       "  <thead>\n",
       "    <tr style=\"text-align: right;\">\n",
       "      <th></th>\n",
       "      <th>2021</th>\n",
       "      <th>28.71</th>\n",
       "    </tr>\n",
       "  </thead>\n",
       "  <tbody>\n",
       "    <tr>\n",
       "      <th>0</th>\n",
       "      <td>2020</td>\n",
       "      <td>18.40</td>\n",
       "    </tr>\n",
       "    <tr>\n",
       "      <th>1</th>\n",
       "      <td>2019</td>\n",
       "      <td>31.49</td>\n",
       "    </tr>\n",
       "    <tr>\n",
       "      <th>2</th>\n",
       "      <td>2018</td>\n",
       "      <td>-4.38</td>\n",
       "    </tr>\n",
       "    <tr>\n",
       "      <th>3</th>\n",
       "      <td>2017</td>\n",
       "      <td>21.83</td>\n",
       "    </tr>\n",
       "    <tr>\n",
       "      <th>4</th>\n",
       "      <td>2016</td>\n",
       "      <td>11.96</td>\n",
       "    </tr>\n",
       "  </tbody>\n",
       "</table>\n",
       "</div>"
      ],
      "text/plain": [
       "   2021  28.71\n",
       "0  2020  18.40\n",
       "1  2019  31.49\n",
       "2  2018  -4.38\n",
       "3  2017  21.83\n",
       "4  2016  11.96"
      ]
     },
     "execution_count": 150,
     "metadata": {},
     "output_type": "execute_result"
    }
   ],
   "source": [
    "#reading the CSV file\n",
    "df = pd.read_csv(\"C:\\\\Users\\\\Gacheru\\\\Downloads\\\\history.csv\")\n",
    "df.head()"
   ]
  },
  {
   "cell_type": "code",
   "execution_count": 151,
   "id": "32dafbf8",
   "metadata": {},
   "outputs": [],
   "source": [
    "#renaming the coloumns since they had years and return as they coloumn names\n",
    "\n",
    "df.rename(columns = {'2021':'Year', '28.71':'% Return'}, inplace = True)"
   ]
  },
  {
   "cell_type": "code",
   "execution_count": 152,
   "id": "99d5f981",
   "metadata": {},
   "outputs": [
    {
     "data": {
      "text/html": [
       "<div>\n",
       "<style scoped>\n",
       "    .dataframe tbody tr th:only-of-type {\n",
       "        vertical-align: middle;\n",
       "    }\n",
       "\n",
       "    .dataframe tbody tr th {\n",
       "        vertical-align: top;\n",
       "    }\n",
       "\n",
       "    .dataframe thead th {\n",
       "        text-align: right;\n",
       "    }\n",
       "</style>\n",
       "<table border=\"1\" class=\"dataframe\">\n",
       "  <thead>\n",
       "    <tr style=\"text-align: right;\">\n",
       "      <th></th>\n",
       "      <th>Year</th>\n",
       "      <th>% Return</th>\n",
       "    </tr>\n",
       "  </thead>\n",
       "  <tbody>\n",
       "    <tr>\n",
       "      <th>90</th>\n",
       "      <td>1930</td>\n",
       "      <td>-24.90</td>\n",
       "    </tr>\n",
       "    <tr>\n",
       "      <th>91</th>\n",
       "      <td>1929</td>\n",
       "      <td>-8.42</td>\n",
       "    </tr>\n",
       "    <tr>\n",
       "      <th>92</th>\n",
       "      <td>1928</td>\n",
       "      <td>43.61</td>\n",
       "    </tr>\n",
       "    <tr>\n",
       "      <th>93</th>\n",
       "      <td>1927</td>\n",
       "      <td>37.49</td>\n",
       "    </tr>\n",
       "    <tr>\n",
       "      <th>94</th>\n",
       "      <td>1926</td>\n",
       "      <td>11.62</td>\n",
       "    </tr>\n",
       "  </tbody>\n",
       "</table>\n",
       "</div>"
      ],
      "text/plain": [
       "    Year  % Return\n",
       "90  1930    -24.90\n",
       "91  1929     -8.42\n",
       "92  1928     43.61\n",
       "93  1927     37.49\n",
       "94  1926     11.62"
      ]
     },
     "execution_count": 152,
     "metadata": {},
     "output_type": "execute_result"
    }
   ],
   "source": [
    "df.tail()"
   ]
  },
  {
   "cell_type": "code",
   "execution_count": 153,
   "id": "f65d07fe",
   "metadata": {},
   "outputs": [],
   "source": [
    "#adding a new row with the missing data\n",
    "new_row = pd.DataFrame({\"Year\":2021,\"% Return\":28.71},index=[0])\n",
    "df = pd.concat([new_row, df]).reset_index(drop = True)"
   ]
  },
  {
   "cell_type": "code",
   "execution_count": 168,
   "id": "d1614ee0",
   "metadata": {},
   "outputs": [
    {
     "data": {
      "text/html": [
       "<div>\n",
       "<style scoped>\n",
       "    .dataframe tbody tr th:only-of-type {\n",
       "        vertical-align: middle;\n",
       "    }\n",
       "\n",
       "    .dataframe tbody tr th {\n",
       "        vertical-align: top;\n",
       "    }\n",
       "\n",
       "    .dataframe thead th {\n",
       "        text-align: right;\n",
       "    }\n",
       "</style>\n",
       "<table border=\"1\" class=\"dataframe\">\n",
       "  <thead>\n",
       "    <tr style=\"text-align: right;\">\n",
       "      <th></th>\n",
       "      <th>Year</th>\n",
       "      <th>% Return</th>\n",
       "    </tr>\n",
       "  </thead>\n",
       "  <tbody>\n",
       "    <tr>\n",
       "      <th>count</th>\n",
       "      <td>96.000000</td>\n",
       "      <td>96.000000</td>\n",
       "    </tr>\n",
       "    <tr>\n",
       "      <th>mean</th>\n",
       "      <td>1973.500000</td>\n",
       "      <td>12.327604</td>\n",
       "    </tr>\n",
       "    <tr>\n",
       "      <th>std</th>\n",
       "      <td>27.856777</td>\n",
       "      <td>19.632006</td>\n",
       "    </tr>\n",
       "    <tr>\n",
       "      <th>min</th>\n",
       "      <td>1926.000000</td>\n",
       "      <td>-43.340000</td>\n",
       "    </tr>\n",
       "    <tr>\n",
       "      <th>25%</th>\n",
       "      <td>1949.750000</td>\n",
       "      <td>-0.555000</td>\n",
       "    </tr>\n",
       "    <tr>\n",
       "      <th>50%</th>\n",
       "      <td>1973.500000</td>\n",
       "      <td>14.685000</td>\n",
       "    </tr>\n",
       "    <tr>\n",
       "      <th>75%</th>\n",
       "      <td>1997.250000</td>\n",
       "      <td>26.567500</td>\n",
       "    </tr>\n",
       "    <tr>\n",
       "      <th>max</th>\n",
       "      <td>2021.000000</td>\n",
       "      <td>53.990000</td>\n",
       "    </tr>\n",
       "  </tbody>\n",
       "</table>\n",
       "</div>"
      ],
      "text/plain": [
       "              Year   % Return\n",
       "count    96.000000  96.000000\n",
       "mean   1973.500000  12.327604\n",
       "std      27.856777  19.632006\n",
       "min    1926.000000 -43.340000\n",
       "25%    1949.750000  -0.555000\n",
       "50%    1973.500000  14.685000\n",
       "75%    1997.250000  26.567500\n",
       "max    2021.000000  53.990000"
      ]
     },
     "execution_count": 168,
     "metadata": {},
     "output_type": "execute_result"
    }
   ],
   "source": [
    "df.describe()"
   ]
  },
  {
   "cell_type": "code",
   "execution_count": 191,
   "id": "761ab533",
   "metadata": {},
   "outputs": [
    {
     "data": {
      "text/html": [
       "<div>\n",
       "<style scoped>\n",
       "    .dataframe tbody tr th:only-of-type {\n",
       "        vertical-align: middle;\n",
       "    }\n",
       "\n",
       "    .dataframe tbody tr th {\n",
       "        vertical-align: top;\n",
       "    }\n",
       "\n",
       "    .dataframe thead th {\n",
       "        text-align: right;\n",
       "    }\n",
       "</style>\n",
       "<table border=\"1\" class=\"dataframe\">\n",
       "  <thead>\n",
       "    <tr style=\"text-align: right;\">\n",
       "      <th></th>\n",
       "      <th>Year</th>\n",
       "      <th>% Return</th>\n",
       "      <th>decade</th>\n",
       "      <th>Return_Classification</th>\n",
       "    </tr>\n",
       "  </thead>\n",
       "  <tbody>\n",
       "    <tr>\n",
       "      <th>91</th>\n",
       "      <td>1930</td>\n",
       "      <td>-24.90</td>\n",
       "      <td>Decade 1</td>\n",
       "      <td>Extremely Low</td>\n",
       "    </tr>\n",
       "    <tr>\n",
       "      <th>92</th>\n",
       "      <td>1929</td>\n",
       "      <td>-8.42</td>\n",
       "      <td>Decade 1</td>\n",
       "      <td>Extremely Low</td>\n",
       "    </tr>\n",
       "    <tr>\n",
       "      <th>93</th>\n",
       "      <td>1928</td>\n",
       "      <td>43.61</td>\n",
       "      <td>Decade 1</td>\n",
       "      <td>Extremely High</td>\n",
       "    </tr>\n",
       "    <tr>\n",
       "      <th>94</th>\n",
       "      <td>1927</td>\n",
       "      <td>37.49</td>\n",
       "      <td>Decade 1</td>\n",
       "      <td>Extremely High</td>\n",
       "    </tr>\n",
       "    <tr>\n",
       "      <th>95</th>\n",
       "      <td>1926</td>\n",
       "      <td>11.62</td>\n",
       "      <td>None</td>\n",
       "      <td>High</td>\n",
       "    </tr>\n",
       "  </tbody>\n",
       "</table>\n",
       "</div>"
      ],
      "text/plain": [
       "    Year  % Return    decade Return_Classification\n",
       "91  1930    -24.90  Decade 1         Extremely Low\n",
       "92  1929     -8.42  Decade 1         Extremely Low\n",
       "93  1928     43.61  Decade 1        Extremely High\n",
       "94  1927     37.49  Decade 1        Extremely High\n",
       "95  1926     11.62      None                  High"
      ]
     },
     "execution_count": 191,
     "metadata": {},
     "output_type": "execute_result"
    }
   ],
   "source": [
    "#looking at the data tyes\n",
    "df.tail()\n"
   ]
  },
  {
   "cell_type": "code",
   "execution_count": 156,
   "id": "17865cb2",
   "metadata": {},
   "outputs": [
    {
     "data": {
      "text/html": [
       "<div>\n",
       "<style scoped>\n",
       "    .dataframe tbody tr th:only-of-type {\n",
       "        vertical-align: middle;\n",
       "    }\n",
       "\n",
       "    .dataframe tbody tr th {\n",
       "        vertical-align: top;\n",
       "    }\n",
       "\n",
       "    .dataframe thead th {\n",
       "        text-align: right;\n",
       "    }\n",
       "</style>\n",
       "<table border=\"1\" class=\"dataframe\">\n",
       "  <thead>\n",
       "    <tr style=\"text-align: right;\">\n",
       "      <th></th>\n",
       "      <th>Year</th>\n",
       "      <th>% Return</th>\n",
       "      <th>decade</th>\n",
       "    </tr>\n",
       "  </thead>\n",
       "  <tbody>\n",
       "    <tr>\n",
       "      <th>0</th>\n",
       "      <td>2021</td>\n",
       "      <td>28.71</td>\n",
       "      <td>Decade 9</td>\n",
       "    </tr>\n",
       "    <tr>\n",
       "      <th>1</th>\n",
       "      <td>2020</td>\n",
       "      <td>18.40</td>\n",
       "      <td>Decade 9</td>\n",
       "    </tr>\n",
       "    <tr>\n",
       "      <th>2</th>\n",
       "      <td>2019</td>\n",
       "      <td>31.49</td>\n",
       "      <td>Decade 9</td>\n",
       "    </tr>\n",
       "    <tr>\n",
       "      <th>3</th>\n",
       "      <td>2018</td>\n",
       "      <td>-4.38</td>\n",
       "      <td>Decade 9</td>\n",
       "    </tr>\n",
       "    <tr>\n",
       "      <th>4</th>\n",
       "      <td>2017</td>\n",
       "      <td>21.83</td>\n",
       "      <td>Decade 9</td>\n",
       "    </tr>\n",
       "    <tr>\n",
       "      <th>...</th>\n",
       "      <td>...</td>\n",
       "      <td>...</td>\n",
       "      <td>...</td>\n",
       "    </tr>\n",
       "    <tr>\n",
       "      <th>91</th>\n",
       "      <td>1930</td>\n",
       "      <td>-24.90</td>\n",
       "      <td>Decade 1</td>\n",
       "    </tr>\n",
       "    <tr>\n",
       "      <th>92</th>\n",
       "      <td>1929</td>\n",
       "      <td>-8.42</td>\n",
       "      <td>Decade 1</td>\n",
       "    </tr>\n",
       "    <tr>\n",
       "      <th>93</th>\n",
       "      <td>1928</td>\n",
       "      <td>43.61</td>\n",
       "      <td>Decade 1</td>\n",
       "    </tr>\n",
       "    <tr>\n",
       "      <th>94</th>\n",
       "      <td>1927</td>\n",
       "      <td>37.49</td>\n",
       "      <td>Decade 1</td>\n",
       "    </tr>\n",
       "    <tr>\n",
       "      <th>95</th>\n",
       "      <td>1926</td>\n",
       "      <td>11.62</td>\n",
       "      <td>None</td>\n",
       "    </tr>\n",
       "  </tbody>\n",
       "</table>\n",
       "<p>96 rows × 3 columns</p>\n",
       "</div>"
      ],
      "text/plain": [
       "    Year  % Return    decade\n",
       "0   2021     28.71  Decade 9\n",
       "1   2020     18.40  Decade 9\n",
       "2   2019     31.49  Decade 9\n",
       "3   2018     -4.38  Decade 9\n",
       "4   2017     21.83  Decade 9\n",
       "..   ...       ...       ...\n",
       "91  1930    -24.90  Decade 1\n",
       "92  1929     -8.42  Decade 1\n",
       "93  1928     43.61  Decade 1\n",
       "94  1927     37.49  Decade 1\n",
       "95  1926     11.62      None\n",
       "\n",
       "[96 rows x 3 columns]"
      ]
     },
     "execution_count": 156,
     "metadata": {},
     "output_type": "execute_result"
    }
   ],
   "source": [
    "#creating a funct to categorize the years based on decades\n",
    "def filter(x):\n",
    "    if x <= 1930:\n",
    "        return \"Decade 1\"\n",
    "    if (x > 1931 and x <=1940 ):\n",
    "        return \"Decade 1\"\n",
    "    if (x > 1941 and x <=1950 ):\n",
    "        return \"Decade 2\"\n",
    "    if (x > 1951 and x <=1960 ):\n",
    "        return \"Decade 3\"\n",
    "    if (x > 1961 and x <=1970 ):\n",
    "        return \"Decade 4\"\n",
    "    if (x > 1980 and x <=1990 ):\n",
    "        return \"Decade 5\"\n",
    "    if (x > 1990 and x <=2000 ):\n",
    "        return \"Decade 6\"\n",
    "    if (x > 2001 and x <=2010 ):\n",
    "        return \"Decade 7\"\n",
    "    if (x > 2011 and x <=2021 ):\n",
    "        return \"Decade 8\"\n",
    "    if (x > 2013 and x <= 2023):\n",
    "        return \"Decade 9\"\n",
    "    \n",
    "#applying the function to the df\"Year\" column\n",
    "df[\"decade\"] = df[\"Year\"].apply(filter)\n",
    "df"
   ]
  },
  {
   "cell_type": "code",
   "execution_count": 158,
   "id": "6424c1d1",
   "metadata": {},
   "outputs": [
    {
     "data": {
      "text/plain": [
       "12.327604166666662"
      ]
     },
     "execution_count": 158,
     "metadata": {},
     "output_type": "execute_result"
    }
   ],
   "source": [
    "#lets take a look at the average mean of the data for the period\n",
    "df_mean = df[\"% Return\"].mean()\n",
    "df_mean\n"
   ]
  },
  {
   "cell_type": "code",
   "execution_count": 159,
   "id": "1c17fa3b",
   "metadata": {
    "scrolled": true
   },
   "outputs": [
    {
     "data": {
      "text/plain": [
       "14.685"
      ]
     },
     "execution_count": 159,
     "metadata": {},
     "output_type": "execute_result"
    }
   ],
   "source": [
    "#median calculation of the data\n",
    "df_median = df[\"% Return\"].median()\n",
    "df_median"
   ]
  },
  {
   "cell_type": "code",
   "execution_count": 169,
   "id": "50945df8",
   "metadata": {},
   "outputs": [
    {
     "data": {
      "text/plain": [
       "53.99"
      ]
     },
     "execution_count": 169,
     "metadata": {},
     "output_type": "execute_result"
    }
   ],
   "source": [
    "#min and max of the returns\n",
    "max_return = df['% Return'].max()\n",
    "max_return\n"
   ]
  },
  {
   "cell_type": "code",
   "execution_count": 170,
   "id": "726e2ef8",
   "metadata": {},
   "outputs": [
    {
     "data": {
      "text/plain": [
       "-43.34"
      ]
     },
     "execution_count": 170,
     "metadata": {},
     "output_type": "execute_result"
    }
   ],
   "source": [
    "min_return = df[\"% Return\"].min()\n",
    "min_return"
   ]
  },
  {
   "cell_type": "code",
   "execution_count": 160,
   "id": "e3197b74",
   "metadata": {},
   "outputs": [],
   "source": [
    "#standard deviation and the variance of the data set\n",
    "df_std_dev = df[\"% Return\"].std()\n",
    "\n",
    "\n",
    "#the data has a very high stand deviation from the mean"
   ]
  },
  {
   "cell_type": "code",
   "execution_count": 161,
   "id": "97e1b239",
   "metadata": {},
   "outputs": [
    {
     "data": {
      "text/plain": [
       "385.4156689364035"
      ]
     },
     "execution_count": 161,
     "metadata": {},
     "output_type": "execute_result"
    }
   ],
   "source": [
    "#calculating the variance of the returns\n",
    "import statistics\n",
    "df_var = statistics.variance(df[\"% Return\"])\n",
    "df_var\n"
   ]
  },
  {
   "cell_type": "code",
   "execution_count": 162,
   "id": "ba253027",
   "metadata": {},
   "outputs": [
    {
     "data": {
      "text/plain": [
       "-0.4187607320811005"
      ]
     },
     "execution_count": 162,
     "metadata": {},
     "output_type": "execute_result"
    }
   ],
   "source": [
    "#skewness \n",
    "import scipy\n",
    "return_skewness = scipy.stats.skew(df[\"% Return\"],axis=0,bias=True)\n",
    "return_skewness\n",
    "#the skewness is negative, mean is on the left, mode highest pint on the right and median middle\n"
   ]
  },
  {
   "cell_type": "code",
   "execution_count": 163,
   "id": "0edd37f0",
   "metadata": {},
   "outputs": [
    {
     "data": {
      "text/plain": [
       "3.0465301755564416"
      ]
     },
     "execution_count": 163,
     "metadata": {},
     "output_type": "execute_result"
    }
   ],
   "source": [
    "#kurtosis measure of describing shape of a prob distr of its tailedness\n",
    "#it evaluates the thich or thin of the tails compared to normal distr\n",
    "#skweness is diff the tail of the distr ased on xtreme values\n",
    "#kurtosis measures wextreme values in either tails\n",
    "return_kurtosis = scipy.stats.kurtosis(df[\"% Return\"],fisher=False)\n",
    "return_kurtosis"
   ]
  },
  {
   "cell_type": "code",
   "execution_count": 164,
   "id": "b4e71786",
   "metadata": {
    "scrolled": true
   },
   "outputs": [
    {
     "data": {
      "text/plain": [
       "<AxesSubplot:xlabel='decade', ylabel='% Return'>"
      ]
     },
     "execution_count": 164,
     "metadata": {},
     "output_type": "execute_result"
    },
    {
     "data": {
      "image/png": "[encoded data removed]",
      "text/plain": [
       "<Figure size 1008x720 with 1 Axes>"
      ]
     },
     "metadata": {
      "needs_background": "light"
     },
     "output_type": "display_data"
    }
   ],
   "source": [
    "#start visualization of the numerical data based on decade\n",
    "#boxplot - of the distr of returns per generation\n",
    "fig,ax = plt.subplots(figsize=(14,10))\n",
    "sns.boxplot(data=df,y=\"% Return\",x=\"decade\",width= 0.5)\n"
   ]
  },
  {
   "cell_type": "code",
   "execution_count": 179,
   "id": "9d5f52bb",
   "metadata": {},
   "outputs": [
    {
     "data": {
      "text/html": [
       "<div>\n",
       "<style scoped>\n",
       "    .dataframe tbody tr th:only-of-type {\n",
       "        vertical-align: middle;\n",
       "    }\n",
       "\n",
       "    .dataframe tbody tr th {\n",
       "        vertical-align: top;\n",
       "    }\n",
       "\n",
       "    .dataframe thead th {\n",
       "        text-align: right;\n",
       "    }\n",
       "</style>\n",
       "<table border=\"1\" class=\"dataframe\">\n",
       "  <thead>\n",
       "    <tr style=\"text-align: right;\">\n",
       "      <th></th>\n",
       "      <th>Year</th>\n",
       "      <th>% Return</th>\n",
       "      <th>decade</th>\n",
       "      <th>Return_Classification</th>\n",
       "    </tr>\n",
       "  </thead>\n",
       "  <tbody>\n",
       "    <tr>\n",
       "      <th>0</th>\n",
       "      <td>2021</td>\n",
       "      <td>28.71</td>\n",
       "      <td>Decade 9</td>\n",
       "      <td>Extremely High</td>\n",
       "    </tr>\n",
       "    <tr>\n",
       "      <th>1</th>\n",
       "      <td>2020</td>\n",
       "      <td>18.40</td>\n",
       "      <td>Decade 9</td>\n",
       "      <td>High</td>\n",
       "    </tr>\n",
       "    <tr>\n",
       "      <th>2</th>\n",
       "      <td>2019</td>\n",
       "      <td>31.49</td>\n",
       "      <td>Decade 9</td>\n",
       "      <td>Extremely High</td>\n",
       "    </tr>\n",
       "    <tr>\n",
       "      <th>3</th>\n",
       "      <td>2018</td>\n",
       "      <td>-4.38</td>\n",
       "      <td>Decade 9</td>\n",
       "      <td>Extremely Low</td>\n",
       "    </tr>\n",
       "    <tr>\n",
       "      <th>4</th>\n",
       "      <td>2017</td>\n",
       "      <td>21.83</td>\n",
       "      <td>Decade 9</td>\n",
       "      <td>Extremely High</td>\n",
       "    </tr>\n",
       "    <tr>\n",
       "      <th>...</th>\n",
       "      <td>...</td>\n",
       "      <td>...</td>\n",
       "      <td>...</td>\n",
       "      <td>...</td>\n",
       "    </tr>\n",
       "    <tr>\n",
       "      <th>91</th>\n",
       "      <td>1930</td>\n",
       "      <td>-24.90</td>\n",
       "      <td>Decade 1</td>\n",
       "      <td>Extremely Low</td>\n",
       "    </tr>\n",
       "    <tr>\n",
       "      <th>92</th>\n",
       "      <td>1929</td>\n",
       "      <td>-8.42</td>\n",
       "      <td>Decade 1</td>\n",
       "      <td>Extremely Low</td>\n",
       "    </tr>\n",
       "    <tr>\n",
       "      <th>93</th>\n",
       "      <td>1928</td>\n",
       "      <td>43.61</td>\n",
       "      <td>Decade 1</td>\n",
       "      <td>Extremely High</td>\n",
       "    </tr>\n",
       "    <tr>\n",
       "      <th>94</th>\n",
       "      <td>1927</td>\n",
       "      <td>37.49</td>\n",
       "      <td>Decade 1</td>\n",
       "      <td>Extremely High</td>\n",
       "    </tr>\n",
       "    <tr>\n",
       "      <th>95</th>\n",
       "      <td>1926</td>\n",
       "      <td>11.62</td>\n",
       "      <td>None</td>\n",
       "      <td>High</td>\n",
       "    </tr>\n",
       "  </tbody>\n",
       "</table>\n",
       "<p>96 rows × 4 columns</p>\n",
       "</div>"
      ],
      "text/plain": [
       "    Year  % Return    decade Return_Classification\n",
       "0   2021     28.71  Decade 9        Extremely High\n",
       "1   2020     18.40  Decade 9                  High\n",
       "2   2019     31.49  Decade 9        Extremely High\n",
       "3   2018     -4.38  Decade 9         Extremely Low\n",
       "4   2017     21.83  Decade 9        Extremely High\n",
       "..   ...       ...       ...                   ...\n",
       "91  1930    -24.90  Decade 1         Extremely Low\n",
       "92  1929     -8.42  Decade 1         Extremely Low\n",
       "93  1928     43.61  Decade 1        Extremely High\n",
       "94  1927     37.49  Decade 1        Extremely High\n",
       "95  1926     11.62      None                  High\n",
       "\n",
       "[96 rows x 4 columns]"
      ]
     },
     "execution_count": 179,
     "metadata": {},
     "output_type": "execute_result"
    }
   ],
   "source": [
    "#categirize returns as High, Low and Medium\n",
    "def cat_return(x):\n",
    "    if x <= 0:\n",
    "        return \"Extremely Low\"\n",
    "    if (x > 1 and x <= 5):\n",
    "        return \"Low\"\n",
    "    if (x > 6 and x <= 10 ):\n",
    "        return \" Medium\"\n",
    "    if (x > 11 and x <= 20):\n",
    "        return \"High\"\n",
    "    if (x > 21 and x <= 100):\n",
    "        return \" Extremely High\"\n",
    "#applying the function to the df\"return\" column\n",
    "df[\"Return_Classification\"] = df[\"% Return\"].apply(cat_return)\n",
    "df"
   ]
  },
  {
   "cell_type": "code",
   "execution_count": 185,
   "id": "2635499c",
   "metadata": {},
   "outputs": [
    {
     "data": {
      "text/plain": [
       "<AxesSubplot:xlabel='count', ylabel='Return_Classification'>"
      ]
     },
     "execution_count": 185,
     "metadata": {},
     "output_type": "execute_result"
    },
    {
     "data": {
      "image/png": "[encoded data removed]",
      "text/plain": [
       "<Figure size 792x1080 with 1 Axes>"
      ]
     },
     "metadata": {},
     "output_type": "display_data"
    }
   ],
   "source": [
    "#creating a countplot to vizualize the Return classificatio data with the decade data\n",
    "sns.set(rc={\"figure.figsize\":(11,15)})\n",
    "sns.countplot(hue=\"decade\",y=\"Return_Classification\",data=df)"
   ]
  },
  {
   "cell_type": "code",
   "execution_count": 188,
   "id": "37d325f4",
   "metadata": {},
   "outputs": [
    {
     "data": {
      "text/html": [
       "<div>\n",
       "<style scoped>\n",
       "    .dataframe tbody tr th:only-of-type {\n",
       "        vertical-align: middle;\n",
       "    }\n",
       "\n",
       "    .dataframe tbody tr th {\n",
       "        vertical-align: top;\n",
       "    }\n",
       "\n",
       "    .dataframe thead th {\n",
       "        text-align: right;\n",
       "    }\n",
       "</style>\n",
       "<table border=\"1\" class=\"dataframe\">\n",
       "  <thead>\n",
       "    <tr style=\"text-align: right;\">\n",
       "      <th></th>\n",
       "      <th>Year</th>\n",
       "      <th>% Return</th>\n",
       "      <th>decade</th>\n",
       "      <th>Return_Classification</th>\n",
       "    </tr>\n",
       "  </thead>\n",
       "  <tbody>\n",
       "    <tr>\n",
       "      <th>0</th>\n",
       "      <td>2021</td>\n",
       "      <td>28.71</td>\n",
       "      <td>Decade 9</td>\n",
       "      <td>Extremely High</td>\n",
       "    </tr>\n",
       "    <tr>\n",
       "      <th>1</th>\n",
       "      <td>2020</td>\n",
       "      <td>18.40</td>\n",
       "      <td>Decade 9</td>\n",
       "      <td>High</td>\n",
       "    </tr>\n",
       "    <tr>\n",
       "      <th>2</th>\n",
       "      <td>2019</td>\n",
       "      <td>31.49</td>\n",
       "      <td>Decade 9</td>\n",
       "      <td>Extremely High</td>\n",
       "    </tr>\n",
       "    <tr>\n",
       "      <th>3</th>\n",
       "      <td>2018</td>\n",
       "      <td>-4.38</td>\n",
       "      <td>Decade 9</td>\n",
       "      <td>Extremely Low</td>\n",
       "    </tr>\n",
       "    <tr>\n",
       "      <th>4</th>\n",
       "      <td>2017</td>\n",
       "      <td>21.83</td>\n",
       "      <td>Decade 9</td>\n",
       "      <td>Extremely High</td>\n",
       "    </tr>\n",
       "  </tbody>\n",
       "</table>\n",
       "</div>"
      ],
      "text/plain": [
       "   Year  % Return    decade Return_Classification\n",
       "0  2021     28.71  Decade 9        Extremely High\n",
       "1  2020     18.40  Decade 9                  High\n",
       "2  2019     31.49  Decade 9        Extremely High\n",
       "3  2018     -4.38  Decade 9         Extremely Low\n",
       "4  2017     21.83  Decade 9        Extremely High"
      ]
     },
     "execution_count": 188,
     "metadata": {},
     "output_type": "execute_result"
    }
   ],
   "source": [
    "df.head()"
   ]
  },
  {
   "cell_type": "code",
   "execution_count": 189,
   "id": "55889036",
   "metadata": {},
   "outputs": [
    {
     "data": {
      "text/html": [
       "<div>\n",
       "<style scoped>\n",
       "    .dataframe tbody tr th:only-of-type {\n",
       "        vertical-align: middle;\n",
       "    }\n",
       "\n",
       "    .dataframe tbody tr th {\n",
       "        vertical-align: top;\n",
       "    }\n",
       "\n",
       "    .dataframe thead th {\n",
       "        text-align: right;\n",
       "    }\n",
       "</style>\n",
       "<table border=\"1\" class=\"dataframe\">\n",
       "  <thead>\n",
       "    <tr style=\"text-align: right;\">\n",
       "      <th></th>\n",
       "      <th>Year</th>\n",
       "      <th>% Return</th>\n",
       "      <th>decade</th>\n",
       "      <th>Return_Classification</th>\n",
       "    </tr>\n",
       "  </thead>\n",
       "  <tbody>\n",
       "    <tr>\n",
       "      <th>30</th>\n",
       "      <td>1991</td>\n",
       "      <td>30.47</td>\n",
       "      <td>Decade 6</td>\n",
       "      <td>Extremely High</td>\n",
       "    </tr>\n",
       "    <tr>\n",
       "      <th>31</th>\n",
       "      <td>1990</td>\n",
       "      <td>-3.10</td>\n",
       "      <td>Decade 6</td>\n",
       "      <td>Extremely Low</td>\n",
       "    </tr>\n",
       "    <tr>\n",
       "      <th>32</th>\n",
       "      <td>1989</td>\n",
       "      <td>31.69</td>\n",
       "      <td>Decade 6</td>\n",
       "      <td>Extremely High</td>\n",
       "    </tr>\n",
       "    <tr>\n",
       "      <th>33</th>\n",
       "      <td>1988</td>\n",
       "      <td>16.61</td>\n",
       "      <td>Decade 6</td>\n",
       "      <td>High</td>\n",
       "    </tr>\n",
       "    <tr>\n",
       "      <th>34</th>\n",
       "      <td>1987</td>\n",
       "      <td>5.25</td>\n",
       "      <td>Decade 6</td>\n",
       "      <td>None</td>\n",
       "    </tr>\n",
       "    <tr>\n",
       "      <th>35</th>\n",
       "      <td>1986</td>\n",
       "      <td>18.67</td>\n",
       "      <td>Decade 6</td>\n",
       "      <td>High</td>\n",
       "    </tr>\n",
       "    <tr>\n",
       "      <th>36</th>\n",
       "      <td>1985</td>\n",
       "      <td>31.73</td>\n",
       "      <td>Decade 6</td>\n",
       "      <td>Extremely High</td>\n",
       "    </tr>\n",
       "    <tr>\n",
       "      <th>37</th>\n",
       "      <td>1984</td>\n",
       "      <td>6.27</td>\n",
       "      <td>Decade 6</td>\n",
       "      <td>Medium</td>\n",
       "    </tr>\n",
       "    <tr>\n",
       "      <th>38</th>\n",
       "      <td>1983</td>\n",
       "      <td>22.56</td>\n",
       "      <td>Decade 6</td>\n",
       "      <td>Extremely High</td>\n",
       "    </tr>\n",
       "    <tr>\n",
       "      <th>39</th>\n",
       "      <td>1982</td>\n",
       "      <td>21.55</td>\n",
       "      <td>Decade 6</td>\n",
       "      <td>Extremely High</td>\n",
       "    </tr>\n",
       "  </tbody>\n",
       "</table>\n",
       "</div>"
      ],
      "text/plain": [
       "    Year  % Return    decade Return_Classification\n",
       "30  1991     30.47  Decade 6        Extremely High\n",
       "31  1990     -3.10  Decade 6         Extremely Low\n",
       "32  1989     31.69  Decade 6        Extremely High\n",
       "33  1988     16.61  Decade 6                  High\n",
       "34  1987      5.25  Decade 6                  None\n",
       "35  1986     18.67  Decade 6                  High\n",
       "36  1985     31.73  Decade 6        Extremely High\n",
       "37  1984      6.27  Decade 6                Medium\n",
       "38  1983     22.56  Decade 6        Extremely High\n",
       "39  1982     21.55  Decade 6        Extremely High"
      ]
     },
     "execution_count": 189,
     "metadata": {},
     "output_type": "execute_result"
    }
   ],
   "source": [
    "#analysis of decade 6\n",
    "decade_six = df.loc[df['decade'] == \"Decade 6\"]\n",
    "decade_six"
   ]
  },
  {
   "cell_type": "code",
   "execution_count": null,
   "id": "c56ed0e7",
   "metadata": {},
   "outputs": [],
   "source": []
  }
 ],
 "metadata": {
  "kernelspec": {
   "display_name": "Python 3 (ipykernel)",
   "language": "python",
   "name": "python3"
  },
  "language_info": {
   "codemirror_mode": {
    "name": "ipython",
    "version": 3
   },
   "file_extension": ".py",
   "mimetype": "text/x-python",
   "name": "python",
   "nbconvert_exporter": "python",
   "pygments_lexer": "ipython3",
   "version": "3.9.12"
  }
 },
 "nbformat": 4,
 "nbformat_minor": 5
}
